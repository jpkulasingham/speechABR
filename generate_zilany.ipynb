{
 "cells": [
  {
   "cell_type": "code",
   "execution_count": 3,
   "metadata": {},
   "outputs": [],
   "source": [
    "import eelbrain as eel\n",
    "import numpy as np\n",
    "import cochlea, tqdm, pathlib, time\n",
    "from pathnames import *"
   ]
  },
  {
   "cell_type": "markdown",
   "metadata": {},
   "source": [
    "# load erg and save"
   ]
  },
  {
   "cell_type": "code",
   "execution_count": null,
   "metadata": {},
   "outputs": [],
   "source": [
    "datadict = eel.load.unpickle(in_path / f'part_001_in_speech_Cz_reref_ergs.pkl')\n",
    "ergs = [e.sub(time=(1, 245)) for e in datadict['ergs']]\n",
    "ergs = eel.combine([e-e.mean() for e in ergs])\n",
    "\n",
    "for i in tqdm(range(8)):\n",
    "    wav = ergs[i].copy()\n",
    "    wav /= wav.abs().max()\n",
    "    eel.save.wav(wav, predfolder / f'part_001_in_speech_erg_short_wav_{i}.wav')\n",
    "    eel.save.pickle(wav, predfolder / f'part_001_in_speech_erg_short_wav_{i}.pkl')\n",
    "    wav = eel.resample(eel.NDVar(wav.x, eel.UTS(1, wav.time.tstep, len(wav))), 16384)"
   ]
  },
  {
   "attachments": {},
   "cell_type": "markdown",
   "metadata": {},
   "source": [
    "# generate zilany (only hsr fibres)"
   ]
  },
  {
   "cell_type": "code",
   "execution_count": 4,
   "metadata": {},
   "outputs": [
    {
     "name": "stdout",
     "output_type": "stream",
     "text": [
      "running\n"
     ]
    },
    {
     "name": "stderr",
     "output_type": "stream",
     "text": [
      "100%|██████████| 43/43 [16:56<00:00, 23.63s/it]\n"
     ]
    },
    {
     "name": "stdout",
     "output_type": "stream",
     "text": [
      "<NDVar: 3997696 time> 243.99993896484375 elapsed 1029.5143134593964\n",
      "\n"
     ]
    },
    {
     "name": "stderr",
     "output_type": "stream",
     "text": [
      "100%|██████████| 43/43 [16:51<00:00, 23.52s/it]\n"
     ]
    },
    {
     "name": "stdout",
     "output_type": "stream",
     "text": [
      "<NDVar: 3997696 time> 243.99993896484375 elapsed 1015.3822267055511\n",
      "\n"
     ]
    },
    {
     "name": "stderr",
     "output_type": "stream",
     "text": [
      "100%|██████████| 43/43 [16:42<00:00, 23.32s/it]t]\n"
     ]
    },
    {
     "name": "stdout",
     "output_type": "stream",
     "text": [
      "<NDVar: 3997696 time> 243.99993896484375 elapsed 1006.6332988739014\n",
      "\n"
     ]
    },
    {
     "name": "stderr",
     "output_type": "stream",
     "text": [
      "100%|██████████| 43/43 [16:47<00:00, 23.44s/it]\n"
     ]
    },
    {
     "name": "stdout",
     "output_type": "stream",
     "text": [
      "<NDVar: 3997696 time> 243.99993896484375 elapsed 1011.5508832931519\n",
      "\n"
     ]
    },
    {
     "name": "stderr",
     "output_type": "stream",
     "text": [
      "100%|██████████| 43/43 [16:41<00:00, 23.30s/it]/it]\n"
     ]
    },
    {
     "name": "stdout",
     "output_type": "stream",
     "text": [
      "<NDVar: 3997696 time> 243.99993896484375 elapsed 1005.657628774643\n",
      "\n"
     ]
    },
    {
     "name": "stderr",
     "output_type": "stream",
     "text": [
      "100%|██████████| 43/43 [16:47<00:00, 23.42s/it]\n"
     ]
    },
    {
     "name": "stdout",
     "output_type": "stream",
     "text": [
      "<NDVar: 3997696 time> 243.99993896484375 elapsed 1010.7956256866455\n",
      "\n"
     ]
    },
    {
     "name": "stderr",
     "output_type": "stream",
     "text": [
      "100%|██████████| 43/43 [16:44<00:00, 23.37s/it]/it]\n"
     ]
    },
    {
     "name": "stdout",
     "output_type": "stream",
     "text": [
      "<NDVar: 3997696 time> 243.99993896484375 elapsed 1008.4793906211853\n",
      "\n"
     ]
    },
    {
     "name": "stderr",
     "output_type": "stream",
     "text": [
      "100%|██████████| 43/43 [16:36<00:00, 23.18s/it]\n"
     ]
    },
    {
     "name": "stdout",
     "output_type": "stream",
     "text": [
      "<NDVar: 3997696 time> 243.99993896484375 elapsed 1000.5085439682007\n",
      "\n"
     ]
    },
    {
     "name": "stderr",
     "output_type": "stream",
     "text": [
      "100%|██████████| 43/43 [16:50<00:00, 23.50s/it]/it]\n"
     ]
    },
    {
     "name": "stdout",
     "output_type": "stream",
     "text": [
      "<NDVar: 3997696 time> 243.99993896484375 elapsed 1014.1163663864136\n",
      "\n"
     ]
    },
    {
     "name": "stderr",
     "output_type": "stream",
     "text": [
      "100%|██████████| 43/43 [16:45<00:00, 23.39s/it]\n"
     ]
    },
    {
     "name": "stdout",
     "output_type": "stream",
     "text": [
      "<NDVar: 3997696 time> 243.99993896484375 elapsed 1009.4055802822113\n",
      "\n"
     ]
    },
    {
     "name": "stderr",
     "output_type": "stream",
     "text": [
      "100%|██████████| 43/43 [16:39<00:00, 23.25s/it]/it]\n"
     ]
    },
    {
     "name": "stdout",
     "output_type": "stream",
     "text": [
      "<NDVar: 3997696 time> 243.99993896484375 elapsed 1003.550240278244\n",
      "\n"
     ]
    },
    {
     "name": "stderr",
     "output_type": "stream",
     "text": [
      "100%|██████████| 43/43 [16:41<00:00, 23.30s/it]\n"
     ]
    },
    {
     "name": "stdout",
     "output_type": "stream",
     "text": [
      "<NDVar: 3997696 time> 243.99993896484375 elapsed 1005.4915764331818\n",
      "\n"
     ]
    },
    {
     "name": "stderr",
     "output_type": "stream",
     "text": [
      "100%|██████████| 43/43 [16:46<00:00, 23.40s/it]/it]\n"
     ]
    },
    {
     "name": "stdout",
     "output_type": "stream",
     "text": [
      "<NDVar: 3997696 time> 243.99993896484375 elapsed 1009.7178997993469\n",
      "\n"
     ]
    },
    {
     "name": "stderr",
     "output_type": "stream",
     "text": [
      "100%|██████████| 43/43 [16:41<00:00, 23.28s/it]\n"
     ]
    },
    {
     "name": "stdout",
     "output_type": "stream",
     "text": [
      "<NDVar: 3997696 time> 243.99993896484375 elapsed 1004.8356504440308\n",
      "\n"
     ]
    },
    {
     "name": "stderr",
     "output_type": "stream",
     "text": [
      "100%|██████████| 43/43 [16:47<00:00, 23.44s/it]t]  \n"
     ]
    },
    {
     "name": "stdout",
     "output_type": "stream",
     "text": [
      "<NDVar: 3997696 time> 243.99993896484375 elapsed 1011.3676252365112\n",
      "\n"
     ]
    },
    {
     "name": "stderr",
     "output_type": "stream",
     "text": [
      "100%|██████████| 43/43 [16:42<00:00, 23.32s/it]\n"
     ]
    },
    {
     "name": "stdout",
     "output_type": "stream",
     "text": [
      "<NDVar: 3997696 time> 243.99993896484375 elapsed 1006.3503856658936\n",
      "\n"
     ]
    },
    {
     "name": "stderr",
     "output_type": "stream",
     "text": [
      "100%|██████████| 8/8 [4:31:31<00:00, 2036.39s/it]\n"
     ]
    }
   ],
   "source": [
    "fs_cochlea = 100000\n",
    "cfs = 2 ** np.arange(np.log2(125), np.log2(16e3 + 1), 1./6)\n",
    "\n",
    "print('running')\n",
    "tts = []\n",
    "ANps = []\n",
    "ANns = []\n",
    "for i in tqdm.tqdm(range(8)):\n",
    "    wav = eel.load.unpickle(predfolder / f'part_001_in_speech_erg_short_wav_{i}.pkl')\n",
    "    wav1 = eel.resample(wav, fs_cochlea)\n",
    "    wav1.x = 0.0796214341107 * wav1.x / wav1.rms() # 72 dB SPL -> Pascal\n",
    "    for ip, ee in enumerate([wav1.x, -wav1.x]):\n",
    "        rr = []\n",
    "        ts = time.time()\n",
    "        for cf in tqdm.tqdm(cfs):\n",
    "            rr1 = cochlea.run_zilany2014_rate(ee,\n",
    "                                        fs_cochlea,\n",
    "                                        anf_types=['hsr'],\n",
    "                                        cf=cf,\n",
    "                                        powerlaw='approximate',\n",
    "                                        species='human')\n",
    "            rr.append(rr1)\n",
    "        rr = np.mean(np.squeeze(np.asarray(rr)), axis=0)\n",
    "        tts.append(time.time()-ts)\n",
    "        rr = eel.NDVar(rr, eel.UTS(wav.time.tstart, 1/fs_cochlea, len(rr)))\n",
    "        rr = eel.resample(rr, 1/wav.time.tstep)\n",
    "        print(rr, rr.time.tmax, f'elapsed {tts[-1]}\\n')\n",
    "        eel.save.pickle(rr, predfolder / f'part_001_in_speech_erg_short_wav_{i}_zilany_hsr_approx_pos{ip}.pkl')\n",
    "        if ip: ANns.append(rr) else ANps.append(rr)\n",
    "\n",
    "eel.save.pickle([ANps, ANns], predfolder / f'part_001_in_speech_erg_short_wav_zilany_hsr_posneg_all.pkl')"
   ]
  },
  {
   "cell_type": "code",
   "execution_count": null,
   "metadata": {},
   "outputs": [],
   "source": []
  },
  {
   "cell_type": "code",
   "execution_count": null,
   "metadata": {},
   "outputs": [],
   "source": []
  },
  {
   "cell_type": "code",
   "execution_count": null,
   "metadata": {},
   "outputs": [],
   "source": []
  },
  {
   "cell_type": "code",
   "execution_count": null,
   "metadata": {},
   "outputs": [],
   "source": []
  },
  {
   "cell_type": "code",
   "execution_count": null,
   "metadata": {},
   "outputs": [],
   "source": []
  }
 ],
 "metadata": {
  "kernelspec": {
   "display_name": "eelcurrent",
   "language": "python",
   "name": "python3"
  },
  "language_info": {
   "codemirror_mode": {
    "name": "ipython",
    "version": 3
   },
   "file_extension": ".py",
   "mimetype": "text/x-python",
   "name": "python",
   "nbconvert_exporter": "python",
   "pygments_lexer": "ipython3",
   "version": "3.10.6"
  },
  "orig_nbformat": 4,
  "vscode": {
   "interpreter": {
    "hash": "08062936116bb98dc5346469bb79429e15c62974c13b85a49aad973e8c4ef7c3"
   }
  }
 },
 "nbformat": 4,
 "nbformat_minor": 2
}
